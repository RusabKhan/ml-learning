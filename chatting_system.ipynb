{
 "cells": [
  {
   "cell_type": "code",
   "execution_count": null,
   "metadata": {},
   "outputs": [],
   "source": [
    "import pandas as pd\n",
    "from torch.utils.data import DataLoader, TensorDataset\n",
    "import tensorflow as tf\n",
    "from keras.metrics import Precision, Recall\n",
    "from tensorflow.keras.models import Sequential, Model\n",
    "from tensorflow.keras.layers import (\n",
    "    LSTM,\n",
    "    Dense,\n",
    "    Embedding,\n",
    "    Bidirectional,\n",
    "    Dropout,\n",
    "    GlobalMaxPooling1D,\n",
    "    Concatenate,\n",
    "    BatchNormalization,\n",
    "    Conv1D,\n",
    "    ReLU,\n",
    "    Input,\n",
    "    GRU,\n",
    ")\n",
    "from keras.callbacks import EarlyStopping\n",
    "import matplotlib.pyplot as plt\n",
    "from tensorflow.keras.utils import to_categorical\n",
    "import numpy as np\n",
    "from PIL import Image\n",
    "import matplotlib.pyplot as plt\n",
    "from keras.preprocessing.sequence import pad_sequences\n",
    "from keras.preprocessing.text import Tokenizer\n",
    "from keras import regularizers\n",
    "from keras.layers import Embedding, Flatten, Dense\n",
    "import tensorflow_datasets as tfds\n",
    "import nltk\n",
    "from nltk.corpus import stopwords\n",
    "from nltk.tokenize import word_tokenize\n",
    "from nltk.stem import PorterStemmer\n",
    "from nltk.tokenize import word_tokenize\n",
    "from nltk import word_tokenize, pos_tag, ne_chunk\n",
    "import os\n",
    "from keras.preprocessing.sequence import TimeseriesGenerator\n",
    "from datetime import datetime\n",
    "from datasets import load_dataset\n",
    "import json\n",
    "from nltk.tokenize import word_tokenize\n",
    "from sklearn.calibration import LabelEncoder\n",
    "from sklearn.feature_extraction.text import TfidfVectorizer"
   ]
  },
  {
   "cell_type": "code",
   "execution_count": null,
   "metadata": {},
   "outputs": [],
   "source": [
    "test_df = pd.read_parquet(\"datasets/COQA-Conversation/test.parquet\")\n",
    "train_df = pd.read_parquet(\"datasets/COQA-Conversation/train_stanfordnlp.parquet\")"
   ]
  },
  {
   "cell_type": "code",
   "execution_count": null,
   "metadata": {},
   "outputs": [],
   "source": [
    "def tokenize_text(text):\n",
    "    return word_tokenize(text)\n"
   ]
  },
  {
   "cell_type": "code",
   "execution_count": null,
   "metadata": {},
   "outputs": [],
   "source": [
    "dir = f\"{os.getcwd()}/nltk_datasets\"\n",
    "nltk.data.path.append(dir)\n",
    "nltk.download(\"stopwords\", download_dir=dir)\n",
    "nltk.download(\"punkt\", download_dir=dir)\n",
    "nltk.download(\"maxent_ne_chunker\", download_dir=dir)\n",
    "nltk.download(\"words\", download_dir=dir)\n",
    "nltk.download(\"tagsets\", download_dir=dir)\n",
    "nltk.download(\"averaged_perceptron_tagger\", download_dir=dir)"
   ]
  },
  {
   "cell_type": "code",
   "execution_count": null,
   "metadata": {},
   "outputs": [],
   "source": [
    "def remove_stopwords(text):\n",
    "    stop_words = set(stopwords.words(\"english\"))\n",
    "    word_tokens = word_tokenize(text)\n",
    "    filtered_text = [word for word in word_tokens if word.lower()\n",
    "                     not in stop_words]\n",
    "    return \" \".join(filtered_text)\n",
    "\n",
    "\n",
    "def stem_text(text):\n",
    "    stemmer = PorterStemmer()\n",
    "    words = word_tokenize(text)\n",
    "    stemmed_words = [stemmer.stem(word) for word in words]\n",
    "    return \" \".join(stemmed_words)\n",
    "\n",
    "\n",
    "def extract_entities(text):\n",
    "    tokens = word_tokenize(text)\n",
    "    pos_tags = pos_tag(tokens)\n",
    "    ne_chunks = ne_chunk(pos_tags)\n",
    "\n",
    "    entities = []\n",
    "    for chunk in ne_chunks:\n",
    "        if hasattr(chunk, \"label\") and chunk.label():\n",
    "            if chunk.label() == \"NE\":\n",
    "                entities.append(\" \".join([c[0] for c in chunk]))\n",
    "    return entities\n",
    "\n",
    "\n",
    "def create_tfidf_vectorizer(df):\n",
    "    vectorizer = TfidfVectorizer(max_features=10000, use_idf=True)\n",
    "    # Fit and transform the text data in the DataFrame column\n",
    "    tfidf_matrix = vectorizer.fit_transform(df[\"sentence\"])\n",
    "    # Convert the TF-IDF matrix to a DataFrame for visualization\n",
    "    return tfidf_matrix.toarray()\n",
    "\n",
    "\n",
    "def tokenize_sentences(df):\n",
    "    # Flatten the DataFrame to iterate over all cells\n",
    "    all_text = df.values.flatten()\n",
    "    \n",
    "    # Create a tokenizer\n",
    "    tokenizer = Tokenizer(num_words=10000)\n",
    "    \n",
    "    # Fit tokenizer on all text\n",
    "    tokenizer.fit_on_texts(all_text)\n",
    "    \n",
    "    # Tokenize all text\n",
    "    sequences = tokenizer.texts_to_sequences(all_text)\n",
    "    \n",
    "    return sequences\n",
    "\n",
    "\n",
    "def encode_emotions(emotions):\n",
    "    encoder = LabelEncoder()\n",
    "    return encoder.fit_transform(emotions)\n",
    "\n",
    "def pad_sequences_with_zeros(X, maxlen):\n",
    "    return pad_sequences(X, maxlen=maxlen)\n",
    "\n",
    "def extract_and_convert_text(dictionary):\n",
    "    input_text_list = dictionary.get('input_text', [])\n",
    "    return ' '.join(input_text_list)\n",
    "\n",
    "def extract_each_value_from_column(df):\n",
    "    new_rows = []\n",
    "    for idx, row in df.iterrows():\n",
    "        input_texts = row['answers']['input_text']\n",
    "        questions = row['questions']\n",
    "        story = row['story']\n",
    "        # Iterate over each question-answer pair in the row\n",
    "        for question, input_text in zip(questions, input_texts):\n",
    "            # Append a new row to the list with the question, answer, and input text\n",
    "            new_rows.append({'answers': input_text, 'question': question, 'story': story})\n",
    "        return new_rows\n"
   ]
  },
  {
   "cell_type": "code",
   "execution_count": 148,
   "metadata": {},
   "outputs": [],
   "source": [
    "test_df = test_df.map(remove_stopwords)\n",
    "\n",
    "test_df = test_df.map(stem_text)\n",
    "\n",
    "# train[\"entities\"] = train[\"sentence\"].apply(extract_entities)\n",
    "# test[\"entities\"] = test[\"sentence\"].apply(extract_entities)\n",
    "# val[\"entities\"] = val[\"sentence\"].apply(extract_entities)\n",
    "\n",
    "\n",
    "test_tfidf = tokenize_sentences(test_df)\n",
    "\n",
    "test_padded = pad_sequences_with_zeros(test_tfidf, 200)\n",
    "\n",
    "train_df = train_df.map(remove_stopwords)\n",
    "\n",
    "train_df = train_df.map(stem_text)\n",
    "\n",
    "train_tfidf = tokenize_sentences(train_df)\n",
    "\n",
    "train_padded = pad_sequences_with_zeros(train_tfidf, 200)"
   ]
  },
  {
   "cell_type": "code",
   "execution_count": 149,
   "metadata": {},
   "outputs": [],
   "source": [
    "train_padded = train_padded.reshape((train_padded.shape[0], train_padded.shape[1], 1))\n",
    "test_padded = test_padded.reshape((test_padded.shape[0], test_padded.shape[1], 1))"
   ]
  },
  {
   "cell_type": "code",
   "execution_count": 151,
   "metadata": {},
   "outputs": [
    {
     "data": {
      "text/plain": [
       "(36, 200, 1)"
      ]
     },
     "execution_count": 151,
     "metadata": {},
     "output_type": "execute_result"
    }
   ],
   "source": [
    "test_padded.shape"
   ]
  },
  {
   "cell_type": "code",
   "execution_count": 156,
   "metadata": {},
   "outputs": [
    {
     "name": "stdout",
     "output_type": "stream",
     "text": [
      "Model: \"model_18\"\n",
      "__________________________________________________________________________________________________\n",
      " Layer (type)                Output Shape                 Param #   Connected to                  \n",
      "==================================================================================================\n",
      " input_48 (InputLayer)       [(None, None, 200)]          0         []                            \n",
      "                                                                                                  \n",
      " input_49 (InputLayer)       [(None, None, 200)]          0         []                            \n",
      "                                                                                                  \n",
      " lstm_43 (LSTM)              [(None, 256),                467968    ['input_48[0][0]']            \n",
      "                              (None, 256),                                                        \n",
      "                              (None, 256)]                                                        \n",
      "                                                                                                  \n",
      " lstm_44 (LSTM)              [(None, None, 256),          467968    ['input_49[0][0]',            \n",
      "                              (None, 256),                           'lstm_43[0][1]',             \n",
      "                              (None, 256)]                           'lstm_43[0][2]']             \n",
      "                                                                                                  \n",
      " dense_21 (Dense)            (None, None, 200)            51400     ['lstm_44[0][0]']             \n",
      "                                                                                                  \n",
      "==================================================================================================\n",
      "Total params: 987336 (3.77 MB)\n",
      "Trainable params: 987336 (3.77 MB)\n",
      "Non-trainable params: 0 (0.00 Byte)\n",
      "__________________________________________________________________________________________________\n"
     ]
    }
   ],
   "source": [
    "seq_length = None  # Example sequence length\n",
    "vocab_size = 200  # Example vocabulary size\n",
    "\n",
    "# Define encoder input\n",
    "encoder_inputs = Input(shape=(seq_length, vocab_size))\n",
    "\n",
    "# Define LSTM encoder layer with ndim=2\n",
    "encoder_lstm = LSTM(256, return_state=True)\n",
    "encoder_outputs, state_h, state_c = encoder_lstm(encoder_inputs)\n",
    "encoder_states = [state_h, state_c]\n",
    "\n",
    "# Define decoder input\n",
    "decoder_inputs = Input(shape=(None, vocab_size))  # Corrected decoder input shape\n",
    "\n",
    "# Define LSTM decoder layer with ndim=2\n",
    "decoder_lstm = LSTM(256, return_sequences=True, return_state=True)\n",
    "decoder_outputs, _, _ = decoder_lstm(decoder_inputs, initial_state=encoder_states)\n",
    "\n",
    "# Define Dense layer for output\n",
    "decoder_dense = Dense(vocab_size, activation='softmax')\n",
    "decoder_outputs = decoder_dense(decoder_outputs)\n",
    "\n",
    "# Define the model\n",
    "model = Model([encoder_inputs, decoder_inputs], decoder_outputs)\n",
    "\n",
    "# Compile the model\n",
    "model.compile(optimizer='adam', loss='categorical_crossentropy', metrics=['accuracy'])\n",
    "\n",
    "# Print the model summary\n",
    "model.summary()\n"
   ]
  },
  {
   "cell_type": "code",
   "execution_count": 157,
   "metadata": {},
   "outputs": [
    {
     "name": "stdout",
     "output_type": "stream",
     "text": [
      "Epoch 1/10\n"
     ]
    },
    {
     "ename": "ValueError",
     "evalue": "in user code:\n\n    File \"/home/ubuntu/ml-learning/venv/lib/python3.10/site-packages/keras/src/engine/training.py\", line 1401, in train_function  *\n        return step_function(self, iterator)\n    File \"/home/ubuntu/ml-learning/venv/lib/python3.10/site-packages/keras/src/engine/training.py\", line 1384, in step_function  **\n        outputs = model.distribute_strategy.run(run_step, args=(data,))\n    File \"/home/ubuntu/ml-learning/venv/lib/python3.10/site-packages/keras/src/engine/training.py\", line 1373, in run_step  **\n        outputs = model.train_step(data)\n    File \"/home/ubuntu/ml-learning/venv/lib/python3.10/site-packages/keras/src/engine/training.py\", line 1150, in train_step\n        y_pred = self(x, training=True)\n    File \"/home/ubuntu/ml-learning/venv/lib/python3.10/site-packages/keras/src/utils/traceback_utils.py\", line 70, in error_handler\n        raise e.with_traceback(filtered_tb) from None\n    File \"/home/ubuntu/ml-learning/venv/lib/python3.10/site-packages/keras/src/engine/input_spec.py\", line 298, in assert_input_compatibility\n        raise ValueError(\n\n    ValueError: Exception encountered when calling layer 'model_18' (type Functional).\n    \n    Input 0 of layer \"lstm_43\" is incompatible with the layer: expected shape=(None, None, 200), found shape=(None, 200, 1)\n    \n    Call arguments received by layer 'model_18' (type Functional):\n      • inputs=('tf.Tensor(shape=(None, 200, 1), dtype=int32)', 'tf.Tensor(shape=(None, 200, 1), dtype=int32)')\n      • training=True\n      • mask=None\n",
     "output_type": "error",
     "traceback": [
      "\u001b[0;31m---------------------------------------------------------------------------\u001b[0m",
      "\u001b[0;31mValueError\u001b[0m                                Traceback (most recent call last)",
      "Cell \u001b[0;32mIn[157], line 1\u001b[0m\n\u001b[0;32m----> 1\u001b[0m \u001b[43mmodel\u001b[49m\u001b[38;5;241;43m.\u001b[39;49m\u001b[43mfit\u001b[49m\u001b[43m(\u001b[49m\u001b[43m[\u001b[49m\u001b[43mtest_padded\u001b[49m\u001b[43m,\u001b[49m\u001b[43m \u001b[49m\u001b[43mtest_padded\u001b[49m\u001b[43m]\u001b[49m\u001b[43m,\u001b[49m\u001b[43m \u001b[49m\u001b[43mepochs\u001b[49m\u001b[38;5;241;43m=\u001b[39;49m\u001b[38;5;241;43m10\u001b[39;49m\u001b[43m,\u001b[49m\u001b[43m \u001b[49m\u001b[43mbatch_size\u001b[49m\u001b[38;5;241;43m=\u001b[39;49m\u001b[38;5;241;43m128\u001b[39;49m\u001b[43m,\u001b[49m\u001b[43m \u001b[49m\u001b[43mvalidation_split\u001b[49m\u001b[38;5;241;43m=\u001b[39;49m\u001b[38;5;241;43m0.2\u001b[39;49m\u001b[43m)\u001b[49m\n",
      "File \u001b[0;32m~/ml-learning/venv/lib/python3.10/site-packages/keras/src/utils/traceback_utils.py:70\u001b[0m, in \u001b[0;36mfilter_traceback.<locals>.error_handler\u001b[0;34m(*args, **kwargs)\u001b[0m\n\u001b[1;32m     67\u001b[0m     filtered_tb \u001b[38;5;241m=\u001b[39m _process_traceback_frames(e\u001b[38;5;241m.\u001b[39m__traceback__)\n\u001b[1;32m     68\u001b[0m     \u001b[38;5;66;03m# To get the full stack trace, call:\u001b[39;00m\n\u001b[1;32m     69\u001b[0m     \u001b[38;5;66;03m# `tf.debugging.disable_traceback_filtering()`\u001b[39;00m\n\u001b[0;32m---> 70\u001b[0m     \u001b[38;5;28;01mraise\u001b[39;00m e\u001b[38;5;241m.\u001b[39mwith_traceback(filtered_tb) \u001b[38;5;28;01mfrom\u001b[39;00m \u001b[38;5;28;01mNone\u001b[39;00m\n\u001b[1;32m     71\u001b[0m \u001b[38;5;28;01mfinally\u001b[39;00m:\n\u001b[1;32m     72\u001b[0m     \u001b[38;5;28;01mdel\u001b[39;00m filtered_tb\n",
      "File \u001b[0;32m/tmp/__autograph_generated_fileyo2sft9_.py:15\u001b[0m, in \u001b[0;36mouter_factory.<locals>.inner_factory.<locals>.tf__train_function\u001b[0;34m(iterator)\u001b[0m\n\u001b[1;32m     13\u001b[0m \u001b[38;5;28;01mtry\u001b[39;00m:\n\u001b[1;32m     14\u001b[0m     do_return \u001b[38;5;241m=\u001b[39m \u001b[38;5;28;01mTrue\u001b[39;00m\n\u001b[0;32m---> 15\u001b[0m     retval_ \u001b[38;5;241m=\u001b[39m ag__\u001b[38;5;241m.\u001b[39mconverted_call(ag__\u001b[38;5;241m.\u001b[39mld(step_function), (ag__\u001b[38;5;241m.\u001b[39mld(\u001b[38;5;28mself\u001b[39m), ag__\u001b[38;5;241m.\u001b[39mld(iterator)), \u001b[38;5;28;01mNone\u001b[39;00m, fscope)\n\u001b[1;32m     16\u001b[0m \u001b[38;5;28;01mexcept\u001b[39;00m:\n\u001b[1;32m     17\u001b[0m     do_return \u001b[38;5;241m=\u001b[39m \u001b[38;5;28;01mFalse\u001b[39;00m\n",
      "\u001b[0;31mValueError\u001b[0m: in user code:\n\n    File \"/home/ubuntu/ml-learning/venv/lib/python3.10/site-packages/keras/src/engine/training.py\", line 1401, in train_function  *\n        return step_function(self, iterator)\n    File \"/home/ubuntu/ml-learning/venv/lib/python3.10/site-packages/keras/src/engine/training.py\", line 1384, in step_function  **\n        outputs = model.distribute_strategy.run(run_step, args=(data,))\n    File \"/home/ubuntu/ml-learning/venv/lib/python3.10/site-packages/keras/src/engine/training.py\", line 1373, in run_step  **\n        outputs = model.train_step(data)\n    File \"/home/ubuntu/ml-learning/venv/lib/python3.10/site-packages/keras/src/engine/training.py\", line 1150, in train_step\n        y_pred = self(x, training=True)\n    File \"/home/ubuntu/ml-learning/venv/lib/python3.10/site-packages/keras/src/utils/traceback_utils.py\", line 70, in error_handler\n        raise e.with_traceback(filtered_tb) from None\n    File \"/home/ubuntu/ml-learning/venv/lib/python3.10/site-packages/keras/src/engine/input_spec.py\", line 298, in assert_input_compatibility\n        raise ValueError(\n\n    ValueError: Exception encountered when calling layer 'model_18' (type Functional).\n    \n    Input 0 of layer \"lstm_43\" is incompatible with the layer: expected shape=(None, None, 200), found shape=(None, 200, 1)\n    \n    Call arguments received by layer 'model_18' (type Functional):\n      • inputs=('tf.Tensor(shape=(None, 200, 1), dtype=int32)', 'tf.Tensor(shape=(None, 200, 1), dtype=int32)')\n      • training=True\n      • mask=None\n"
     ]
    }
   ],
   "source": [
    "model.fit([test_padded, test_padded], epochs=10, batch_size=128, validation_split=0.2)"
   ]
  },
  {
   "cell_type": "markdown",
   "metadata": {},
   "source": [
    "#### get vocabulary size"
   ]
  },
  {
   "cell_type": "code",
   "execution_count": null,
   "metadata": {},
   "outputs": [],
   "source": [
    "from collections import Counter\n",
    "\n",
    "# Example DataFrame\n",
    "\n",
    "# Combine all text data from all columns into a single string\n",
    "all_text = ' '.join(test_df.stack().astype(str))\n",
    "\n",
    "# Tokenize the text into words\n",
    "words = all_text.split()\n",
    "\n",
    "# Count the frequency of each word\n",
    "word_counts = Counter(words)\n",
    "\n",
    "# Calculate the vocabulary size\n",
    "vocab_size = len(word_counts)\n",
    "\n",
    "print(\"Vocabulary Size:\", vocab_size)\n"
   ]
  },
  {
   "cell_type": "markdown",
   "metadata": {},
   "source": [
    "### extract each questions and answer and save processed data"
   ]
  },
  {
   "cell_type": "code",
   "execution_count": null,
   "metadata": {},
   "outputs": [],
   "source": [
    "new_rows = extract_each_value_from_column(test_df)\n",
    "# Create a new DataFrame from the list of new rows\n",
    "test_df = pd.DataFrame(new_rows)\n",
    "\n",
    "new_rows = extract_each_value_from_column(train_df)\n",
    "# Create a new DataFrame from the list of new rows\n",
    "train_df = pd.DataFrame(new_rows)\n"
   ]
  },
  {
   "cell_type": "code",
   "execution_count": null,
   "metadata": {},
   "outputs": [],
   "source": [
    "data_array = train_df.to_numpy()\n",
    "np.savez_compressed('datasets/COQA-Conversation/COQA_train_processed.npz', data=data_array)\n",
    "\n",
    "data_array = test_df.to_numpy()\n",
    "np.savez_compressed('datasets/COQA-Conversation/COQA_test_processed.npz', data=data_array)"
   ]
  }
 ],
 "metadata": {
  "kernelspec": {
   "display_name": "venv",
   "language": "python",
   "name": "python3"
  },
  "language_info": {
   "codemirror_mode": {
    "name": "ipython",
    "version": 3
   },
   "file_extension": ".py",
   "mimetype": "text/x-python",
   "name": "python",
   "nbconvert_exporter": "python",
   "pygments_lexer": "ipython3",
   "version": "3.10.12"
  }
 },
 "nbformat": 4,
 "nbformat_minor": 2
}
