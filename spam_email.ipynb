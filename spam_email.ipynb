{
 "cells": [
  {
   "cell_type": "code",
   "execution_count": null,
   "metadata": {},
   "outputs": [],
   "source": [
    "import pandas as pd\n",
    "from torch.utils.data import DataLoader, TensorDataset\n",
    "import tensorflow as tf\n",
    "from keras.metrics import Precision, Recall\n",
    "from tensorflow.keras.models import Sequential, Model\n",
    "from tensorflow.keras.layers import LSTM, Dense, Embedding, Bidirectional, Dropout, GlobalMaxPooling1D, \\\n",
    "    Concatenate, BatchNormalization, Conv1D, ReLU, Input, GRU\n",
    "from keras.callbacks import EarlyStopping\n",
    "import matplotlib.pyplot as plt\n",
    "from tensorflow.keras.utils import to_categorical\n",
    "import numpy as np\n",
    "from PIL import Image\n",
    "import matplotlib.pyplot as plt\n",
    "import sklearn as sk\n",
    "from sklearn.metrics import confusion_matrix\n",
    "from keras.preprocessing.sequence import pad_sequences\n",
    "from keras.preprocessing.text import Tokenizer\n",
    "from keras import regularizers\n",
    "from keras.layers import Embedding, Flatten, Dense\n",
    "import tensorflow_datasets as tfds\n",
    "import tensorflow_hub as hub\n",
    "import nltk\n",
    "from nltk.corpus import stopwords\n",
    "from nltk.tokenize import word_tokenize\n",
    "from nltk.stem import PorterStemmer\n",
    "from nltk.tokenize import word_tokenize\n",
    "from nltk import word_tokenize, pos_tag, ne_chunk\n",
    "import os\n",
    "from sklearn.feature_extraction.text import TfidfVectorizer\n",
    "from sklearn.calibration import LabelEncoder\n",
    "from sklearn.model_selection import KFold\n",
    "from sklearn.preprocessing import MinMaxScaler\n",
    "from keras.preprocessing.sequence import TimeseriesGenerator\n",
    "from datetime import datetime\n",
    "from sklearn.model_selection import train_test_split\n",
    "import pyperclip"
   ]
  },
  {
   "cell_type": "code",
   "execution_count": null,
   "metadata": {},
   "outputs": [],
   "source": [
    "pd.set_option('display.max_rows', None)\n",
    "pd.set_option('display.max_columns', None)"
   ]
  },
  {
   "cell_type": "code",
   "execution_count": null,
   "metadata": {},
   "outputs": [],
   "source": [
    "df = pd.read_csv(\"datasets/emails.csv\")\n",
    "pred = df[\"Prediction\"]\n",
    "df.drop(\"Email No.\", axis=1, inplace=True)\n",
    "df.drop(\"Prediction\", axis=1, inplace=True)"
   ]
  },
  {
   "cell_type": "code",
   "execution_count": null,
   "metadata": {},
   "outputs": [],
   "source": [
    "cols = feature_train.columns.to_list()\n",
    "pyperclip.copy(str(cols))"
   ]
  },
  {
   "cell_type": "code",
   "execution_count": null,
   "metadata": {},
   "outputs": [],
   "source": [
    "feature_train, feature_test, label_train, label_test = train_test_split(\n",
    "    df, pred, test_size=0.2)"
   ]
  },
  {
   "cell_type": "code",
   "execution_count": null,
   "metadata": {},
   "outputs": [],
   "source": [
    "label_test_categorical = to_categorical(label_test)\n",
    "label_train_categorical = to_categorical(label_train)"
   ]
  },
  {
   "cell_type": "code",
   "execution_count": null,
   "metadata": {},
   "outputs": [],
   "source": [
    "model = Sequential([\n",
    "    Embedding(3000, 32, input_length=3000),\n",
    "    LSTM(32),\n",
    "    Dense(32, activation='relu'),\n",
    "    Dense(2, activation='softmax'),\n",
    "])"
   ]
  },
  {
   "cell_type": "code",
   "execution_count": null,
   "metadata": {},
   "outputs": [],
   "source": [
    "model.compile(loss='categorical_crossentropy',\n",
    "              optimizer='adam', metrics=['accuracy'])"
   ]
  },
  {
   "cell_type": "code",
   "execution_count": null,
   "metadata": {},
   "outputs": [],
   "source": [
    "numpy_train = feature_train.to_numpy()\n",
    "numpy_test = feature_test.to_numpy()"
   ]
  },
  {
   "cell_type": "code",
   "execution_count": null,
   "metadata": {},
   "outputs": [],
   "source": [
    "model.fit(numpy_train, label_train_categorical, epochs=10, batch_size=512,\n",
    "          validation_data=(numpy_test, label_test_categorical))"
   ]
  },
  {
   "cell_type": "code",
   "execution_count": null,
   "metadata": {},
   "outputs": [],
   "source": [
    "# data = {\n",
    "#     'email_message': [\n",
    "#         'dear john, thank you for your recent purchase at our store. we hope you enjoy your new items!',\n",
    "#         'hi there, we\\'re excited to inform you about our upcoming event. save the date!',\n",
    "#         'your account statement for the month of january is now available. please log in to review.',\n",
    "#         'congratulations! you\\'ve won a luxury vacation. click the link to claim your prize!',\n",
    "#         'urgent: your account has been compromised. please update your password immediately.',\n",
    "#         'act now to receive a free gift with your next purchase. limited-time offer!'\n",
    "#     ],\n",
    "#     'label': [0, 0, 0, 1, 1, 1]  # 0 for legit, 1 for spam\n",
    "# }\n",
    "\n",
    "data = {\n",
    "    'email_message': [\n",
    "        'dear john, thank you for your recent purchase at our store. we hope you enjoy your new items!',\n",
    "        'hi there, we\\'re excited to inform you about our upcoming event. save the date!',\n",
    "        'your account statement for the month of january is now available. please log in to review.',\n",
    "        'congratulations! you\\'ve won a luxury vacation. click the link to claim your prize!',\n",
    "        'urgent: your account has been compromised. please update your password immediately.',\n",
    "        'act now to receive a free gift with your next purchase. limited-time offer!',\n",
    "        \"Exclusive Deal for You!\\n\\nDear [Your Name],\\n\\nUnlock incredible deals and discounts on the latest gadgets and more! Act now to secure your savings. Limited time offer!\\n\\nClick here: [Malicious Link]\\n\\nBest regards,\\nCustomer Support Team\",\n",
    "        \"Important Update on Your Account\\n\\nDear [Your Name],\\n\\nWe wanted to inform you about the recent changes to our services. Please review the details below and feel free to reach out if you have any questions.\\n\\nThank you for choosing our platform.\\n\\nBest regards,\\n[Company Name] Support Team\",\n",
    "\n",
    "    # Add more spam messages as needed\n",
    "\n",
    "    ] # 0 for legit, 1 for spam\n",
    "}\n",
    "\n",
    "new_emails = {'email_message':[\n",
    "    'hey there! exclusive deal just for you. click to unlock special savings!',\n",
    "    'important update: upcoming webinar on the latest industry trends. reserve your spot!',\n",
    "    'your monthly newsletter is here! check out the latest news and updates.',\n",
    "]}\n",
    "\n",
    "\n",
    "\n",
    "\n",
    "df = pd.DataFrame(data)\n",
    "mails = df['email_message']\n",
    "\n",
    "# Display the DataFrame\n",
    "print(df)"
   ]
  },
  {
   "cell_type": "code",
   "execution_count": null,
   "metadata": {},
   "outputs": [],
   "source": [
    "print(mails)\n",
    "tf_idf = TfidfVectorizer(max_features=3000, use_idf=True)\n",
    "tf_idf.fit(mails)\n",
    "tf_idf_mails = tf_idf.transform(mails).toarray()\n",
    "df_2 = pd.DataFrame(tf_idf_mails, columns=tf_idf.get_feature_names_out())\n",
    "print(df_2)\n",
    "arr = df_2.to_numpy()\n",
    "tf_idf_mails_padded = pad_sequences(arr, maxlen=3000)\n",
    "tf_idf_mails_padded"
   ]
  },
  {
   "cell_type": "code",
   "execution_count": null,
   "metadata": {},
   "outputs": [],
   "source": [
    "(model.predict(tf_idf_mails_padded))"
   ]
  }
 ],
 "metadata": {
  "kernelspec": {
   "display_name": "venv",
   "language": "python",
   "name": "python3"
  },
  "language_info": {
   "codemirror_mode": {
    "name": "ipython",
    "version": 3
   },
   "file_extension": ".py",
   "mimetype": "text/x-python",
   "name": "python",
   "nbconvert_exporter": "python",
   "pygments_lexer": "ipython3",
   "version": "3.11.6"
  }
 },
 "nbformat": 4,
 "nbformat_minor": 2
}
