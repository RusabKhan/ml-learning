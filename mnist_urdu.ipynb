{
 "cells": [
  {
   "cell_type": "code",
   "execution_count": null,
   "metadata": {},
   "outputs": [],
   "source": [
    "import pandas as pd\n",
    "import torch\n",
    "from torch.utils.data import DataLoader, TensorDataset\n",
    "import pytorch_lightning as pl\n",
    "import tensorflow as tf\n",
    "from keras.metrics import Precision, Recall\n",
    "from keras.layers import Reshape, Input\n",
    "from tensorflow.keras.models import Sequential\n",
    "from tensorflow.keras.layers import Dense, Dropout, Flatten,Conv2D, MaxPooling2D, Concatenate\n",
    "from keras.callbacks import EarlyStopping\n",
    "import matplotlib.pyplot as plt\n",
    "from tensorflow.keras.utils import to_categorical\n",
    "import numpy as np\n",
    "from PIL import Image\n",
    "import matplotlib.pyplot as plt\n",
    "import sklearn as sk\n",
    "from sklearn.metrics import confusion_matrix\n",
    "from sklearn.model_selection import train_test_split"
   ]
  },
  {
   "cell_type": "code",
   "execution_count": null,
   "metadata": {},
   "outputs": [],
   "source": [
    "from PIL import Image\n",
    "import numpy as np\n",
    "import os\n",
    "\n",
    "def load_png_images_from_folder(folder_path, target_size=(224, 224)):\n",
    "    images = []\n",
    "    labels = []\n",
    "    for filename in os.listdir(folder_path):\n",
    "        if filename.endswith(\".png\"):\n",
    "            label = int(filename[0])  # Assuming the label is the first character in the filename\n",
    "            img_path = os.path.join(folder_path, filename)\n",
    "            img = Image.open(img_path)\n",
    "            img = img.resize(target_size)  # Resize the image to a consistent size\n",
    "            images.append(np.array(img))\n",
    "            labels.append(label)\n",
    "    return np.array(images), np.array(labels)\n",
    "\n",
    "# Replace 'path/to/your/images' with the actual path to your folder containing .png files\n",
    "image_folder_path = 'img/urdu_numerals/'\n",
    "images, labels = load_png_images_from_folder(image_folder_path)\n",
    "\n",
    "# Print the shape of the created dataset\n",
    "print(\"Images shape:\", images.shape)\n",
    "print(\"Labels shape:\", labels.shape)"
   ]
  },
  {
   "cell_type": "code",
   "execution_count": null,
   "metadata": {},
   "outputs": [],
   "source": [
    "np.savez(\"datasets/urdu_numericals.npz\", image=images, label = labels)"
   ]
  },
  {
   "cell_type": "code",
   "execution_count": null,
   "metadata": {},
   "outputs": [],
   "source": [
    "model =tf.keras.models.load_model(\n",
    "        \"models/numerical_model_convolutional.h5\"\n",
    "    ) \n",
    "\n",
    "model.summary()"
   ]
  },
  {
   "cell_type": "code",
   "execution_count": null,
   "metadata": {},
   "outputs": [],
   "source": [
    "labels_x = to_categorical(labels)"
   ]
  },
  {
   "cell_type": "code",
   "execution_count": null,
   "metadata": {},
   "outputs": [],
   "source": [
    "for m in model.layers:\n",
    "    print(m.name)\n",
    "new_model = Sequential()\n"
   ]
  },
  {
   "cell_type": "code",
   "execution_count": null,
   "metadata": {},
   "outputs": [],
   "source": [
    "new_model.summary()"
   ]
  },
  {
   "cell_type": "code",
   "execution_count": null,
   "metadata": {},
   "outputs": [],
   "source": [
    "new_model = Sequential()\n",
    "new_model.add(Conv2D(32, (2, 2), activation='relu', input_shape=(224, 224,1)))\n",
    "new_model.add(MaxPooling2D(pool_size=(2, 2), name='max_pooling2d_newmodel'))   # Changed (3, 3) to (2, 2)\n",
    "\n",
    "for idx, layer in enumerate(model.layers):\n",
    "    if idx not in [0,5,6,7]:\n",
    "        # Append the index to the layer name to make it unique\n",
    "        new_layer_name = f\"{layer.name}_new_{idx}\"\n",
    "        layer._name = new_layer_name\n",
    "        layer.trainable = False\n",
    "        new_model.add(layer)\n",
    "\n",
    "new_model.add(Conv2D(32, (1, 1), activation='relu',name=\"Conv2D_2_new\"))\n",
    "new_model.add(MaxPooling2D(1, 1,name=\"maxpo0ling_new\"))\n",
    "new_model.add(Flatten(name=\"flatten_new\"))\n",
    "new_model.add(Dense(64, activation='softmax',name=\"dense_final_new\"))\n",
    "new_model.add(Dense(10, activation='softmax', name=\"dense_final_new_new\"))\n",
    "\n",
    "new_model.summary()\n"
   ]
  },
  {
   "cell_type": "code",
   "execution_count": null,
   "metadata": {},
   "outputs": [],
   "source": [
    "for layer in new_model.layers:\n",
    "    print(layer.trainable)"
   ]
  },
  {
   "cell_type": "code",
   "execution_count": null,
   "metadata": {},
   "outputs": [],
   "source": [
    "for layer in new_model.layers:\n",
    "    print(layer)\n",
    "var1 = new_model.layers[0].input\n",
    "\n",
    "# new_model = tf.keras.Model(inputs=var1, outputs=final_layer)\n",
    "#new_model.build()\n",
    "new_model.compile(loss=\"categorical_crossentropy\", optimizer=\"adam\", metrics=[\"accuracy\"])"
   ]
  },
  {
   "cell_type": "code",
   "execution_count": null,
   "metadata": {},
   "outputs": [],
   "source": [
    "new_model.layers[-1]"
   ]
  },
  {
   "cell_type": "code",
   "execution_count": null,
   "metadata": {},
   "outputs": [],
   "source": [
    "new_model.summary()"
   ]
  },
  {
   "cell_type": "code",
   "execution_count": null,
   "metadata": {},
   "outputs": [],
   "source": [
    "new_model.fit(images,labels_x, batch_size=32, epochs=10, validation_split=0.2)"
   ]
  },
  {
   "cell_type": "code",
   "execution_count": null,
   "metadata": {},
   "outputs": [],
   "source": [
    "images.shape"
   ]
  },
  {
   "cell_type": "code",
   "execution_count": null,
   "metadata": {},
   "outputs": [],
   "source": [
    "new_model.save(\"models/numerical_model_convolutional_2_fine_tuned_urdu_224.h5\")"
   ]
  }
 ],
 "metadata": {
  "kernelspec": {
   "display_name": "venv",
   "language": "python",
   "name": "python3"
  },
  "language_info": {
   "codemirror_mode": {
    "name": "ipython",
    "version": 3
   },
   "file_extension": ".py",
   "mimetype": "text/x-python",
   "name": "python",
   "nbconvert_exporter": "python",
   "pygments_lexer": "ipython3",
   "version": "3.11.6"
  }
 },
 "nbformat": 4,
 "nbformat_minor": 2
}
