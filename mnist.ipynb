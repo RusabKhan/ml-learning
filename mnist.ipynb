{
 "cells": [
  {
   "cell_type": "code",
   "execution_count": 2,
   "metadata": {},
   "outputs": [
    {
     "name": "stderr",
     "output_type": "stream",
     "text": [
      "2023-12-21 17:05:21.833906: I tensorflow/core/platform/cpu_feature_guard.cc:182] This TensorFlow binary is optimized to use available CPU instructions in performance-critical operations.\n",
      "To enable the following instructions: AVX2 FMA, in other operations, rebuild TensorFlow with the appropriate compiler flags.\n"
     ]
    }
   ],
   "source": [
    "import pandas as pd\n",
    "import torch\n",
    "from torch.utils.data import DataLoader, TensorDataset\n",
    "import pytorch_lightning as pl\n",
    "import tensorflow as tf\n",
    "from keras.metrics import Precision, Recall\n",
    "from tensorflow.keras.models import Sequential\n",
    "from tensorflow.keras.layers import Dense, Dropout, Flatten,Conv2D, MaxPooling2D\n",
    "from keras.callbacks import EarlyStopping\n",
    "import matplotlib.pyplot as plt\n",
    "from tensorflow.keras.utils import to_categorical\n",
    "import numpy as np\n",
    "from PIL import Image\n",
    "import matplotlib.pyplot as plt\n",
    "import sklearn as sk\n",
    "from sklearn.metrics import confusion_matrix\n"
   ]
  },
  {
   "cell_type": "code",
   "execution_count": null,
   "metadata": {},
   "outputs": [],
   "source": [
    "predicted_labels = []"
   ]
  },
  {
   "cell_type": "code",
   "execution_count": null,
   "metadata": {},
   "outputs": [],
   "source": [
    "(train_images, train_labels), (test_images, test_labels) = tf.keras.datasets.mnist.load_data()"
   ]
  },
  {
   "cell_type": "code",
   "execution_count": null,
   "metadata": {},
   "outputs": [],
   "source": [
    "print(train_images.shape)"
   ]
  },
  {
   "cell_type": "code",
   "execution_count": null,
   "metadata": {},
   "outputs": [],
   "source": [
    "to_binary_train_label = to_categorical(train_labels)"
   ]
  },
  {
   "cell_type": "code",
   "execution_count": null,
   "metadata": {},
   "outputs": [],
   "source": [
    "\n",
    "model = Sequential(name=\"mnist\")\n",
    "model.add(Flatten(input_shape=(28, 28)))\n",
    "model.add(Dense(128, activation=\"relu\", name=\"Hidden-2\"))\n",
    "model.add(Dense(32, activation=\"relu\", name=\"Hidden-3\"))\n",
    "model.add(Dense(10, activation=\"softmax\", name=\"Output\"))\n",
    "model.compile(optimizer=\"adam\", loss=\"binary_crossentropy\",metrics=[\"accuracy\"])\n"
   ]
  },
  {
   "cell_type": "markdown",
   "metadata": {},
   "source": [
    "### Convolutional Network below "
   ]
  },
  {
   "cell_type": "code",
   "execution_count": null,
   "metadata": {},
   "outputs": [],
   "source": [
    "\n",
    "\n",
    "model = Sequential(name=\"mnist\")\n",
    "model.add(Conv2D(32, (3, 3), activation='relu', input_shape=(28, 28, 1)))\n",
    "model.add(MaxPooling2D((2, 2)))\n",
    "model.add(Conv2D(64, (3, 3), activation='relu'))\n",
    "model.add(MaxPooling2D((2, 2)))\n",
    "model.add(Conv2D(64, (3, 3), activation='relu'))\n",
    "model.add(Flatten())\n",
    "model.add(Dense(64, activation='relu'))\n",
    "model.add(Dense(10, activation='softmax')) # becuase number range from 0-9 10 in total\n",
    "model.compile(optimizer='adam',\n",
    "              loss='categorical_crossentropy',\n",
    "              metrics=['accuracy',Precision(name='precision'), Recall(name='recall')])\n",
    "\n"
   ]
  },
  {
   "cell_type": "code",
   "execution_count": null,
   "metadata": {},
   "outputs": [],
   "source": [
    "model.summary()"
   ]
  },
  {
   "cell_type": "code",
   "execution_count": null,
   "metadata": {},
   "outputs": [],
   "source": [
    "history = model.fit(train_images, to_binary_train_label, epochs=5,validation_split=0.2)"
   ]
  },
  {
   "cell_type": "code",
   "execution_count": null,
   "metadata": {},
   "outputs": [],
   "source": [
    "model.evaluate(test_images, to_categorical(test_labels))"
   ]
  },
  {
   "cell_type": "code",
   "execution_count": null,
   "metadata": {},
   "outputs": [],
   "source": [
    "model.save(\"models/numerical_model_convolutional.h5\")"
   ]
  },
  {
   "cell_type": "code",
   "execution_count": 3,
   "metadata": {},
   "outputs": [],
   "source": [
    "model =tf.keras.models.load_model(\n",
    "        \"models/numerical_model_convolutional.h5\"\n",
    "    ) "
   ]
  },
  {
   "cell_type": "code",
   "execution_count": null,
   "metadata": {},
   "outputs": [],
   "source": [
    "\n",
    "\n",
    "# Load the image from your local machine\n",
    "image_path = '/Users/rusab1/Downloads/seven.png'  # Replace with the path to your image\n",
    "image = Image.open(image_path)\n",
    "\n",
    "# Convert the image to grayscale (if needed) and resize it to 28x28 pixels\n",
    "image = image.convert('L')  # Convert to grayscale\n",
    "image = image.resize((28, 28))\n",
    "\n",
    "# Convert the image to a NumPy array\n",
    "image_array = np.array(image)\n",
    "\n",
    "# Normalize pixel values to be between 0 and 1\n",
    "#image_array = image_array / 255.0\n",
    "\n",
    "# Reshape the image to match the input shape expected by the model\n",
    "image_array = image_array.reshape((1,28, 28))\n",
    "\n",
    "# Display the image\n",
    "plt.imshow(image_array.reshape(28, 28), cmap='gray')  # Show the image in grayscale\n",
    "plt.axis('off')\n",
    "plt.show()\n",
    "\n",
    "# Use the trained model to predict on the loaded image\n",
    "predictions = model.predict(image_array)\n",
    "\n",
    "# Get the predicted label (digit with highest probability)\n",
    "predicted_label = predictions.argmax()\n",
    "#position = int(predicted_label) -1\n",
    "\n",
    "print(f\"Predicted Label: {predicted_label}\")\n"
   ]
  },
  {
   "cell_type": "code",
   "execution_count": null,
   "metadata": {},
   "outputs": [],
   "source": [
    "tst = test_labels[0:50]\n",
    "predicted_labels = np.array(predicted_labels)\n",
    "predicted_labels.shape, tst.shape\n",
    "\n",
    "cm = confusion_matrix(predicted_labels, tst)\n",
    "cm, cm.shape\n",
    "#test_labels,\"in-beteween\", predictions\n"
   ]
  },
  {
   "cell_type": "code",
   "execution_count": null,
   "metadata": {},
   "outputs": [],
   "source": [
    "desired_number = 8 # Replace this with the number you want to count\n",
    "\n",
    "# Calculate count for the desired number\n",
    "count_of_desired_number = np.sum(predicted_labels == desired_number)\n",
    "\n",
    "print(f\"Count of {desired_number}: {count_of_desired_number}\")\n"
   ]
  },
  {
   "cell_type": "code",
   "execution_count": null,
   "metadata": {},
   "outputs": [],
   "source": [
    "model.summary()"
   ]
  },
  {
   "cell_type": "code",
   "execution_count": null,
   "metadata": {},
   "outputs": [],
   "source": [
    "len(test_images)"
   ]
  },
  {
   "cell_type": "code",
   "execution_count": null,
   "metadata": {},
   "outputs": [],
   "source": [
    "for t in test_images[0:50]:\n",
    "    image_array = t\n",
    "\n",
    "    # Reshape the image to match the input shape expected by the model\n",
    "    image_array = image_array.reshape((1,28, 28))\n",
    "\n",
    "    # Display the image\n",
    "    # plt.imshow(image_array.reshape(28, 28), cmap='gray')  # Show the image in grayscale\n",
    "    # plt.axis('off')\n",
    "    # plt.show()\n",
    "\n",
    "    # Use the trained model to predict on the loaded image\n",
    "    predictions = model.predict(image_array)\n",
    "\n",
    "    # Get the predicted label (digit with highest probability)\n",
    "    predicted_label = predictions.argmax()\n",
    "\n",
    "    #print(predictions)\n",
    "    predicted_labels.append(predicted_label)\n",
    "\n",
    "    #print(f\"Predicted Label: {predicted_label}\")"
   ]
  }
 ],
 "metadata": {
  "kernelspec": {
   "display_name": "venv",
   "language": "python",
   "name": "python3"
  },
  "language_info": {
   "codemirror_mode": {
    "name": "ipython",
    "version": 3
   },
   "file_extension": ".py",
   "mimetype": "text/x-python",
   "name": "python",
   "nbconvert_exporter": "python",
   "pygments_lexer": "ipython3",
   "version": "3.11.6"
  }
 },
 "nbformat": 4,
 "nbformat_minor": 2
}
