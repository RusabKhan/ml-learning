{
 "cells": [
  {
   "cell_type": "code",
   "execution_count": 4,
   "metadata": {},
   "outputs": [
    {
     "name": "stderr",
     "output_type": "stream",
     "text": [
      "2024-01-18 23:47:08.693123: I tensorflow/core/platform/cpu_feature_guard.cc:182] This TensorFlow binary is optimized to use available CPU instructions in performance-critical operations.\n",
      "To enable the following instructions: AVX2 FMA, in other operations, rebuild TensorFlow with the appropriate compiler flags.\n",
      "/Users/rusab1/Work/learntorch/venv/lib/python3.11/site-packages/tqdm/auto.py:21: TqdmWarning: IProgress not found. Please update jupyter and ipywidgets. See https://ipywidgets.readthedocs.io/en/stable/user_install.html\n",
      "  from .autonotebook import tqdm as notebook_tqdm\n"
     ]
    }
   ],
   "source": [
    "import pandas as pd\n",
    "from torch.utils.data import DataLoader, TensorDataset\n",
    "import tensorflow as tf\n",
    "from keras.metrics import Precision, Recall\n",
    "from tensorflow.keras.models import Sequential,Model\n",
    "from tensorflow.keras.layers import LSTM, Dense, Embedding, Bidirectional, Dropout, GlobalMaxPooling1D, \\\n",
    "Concatenate, BatchNormalization, Conv1D, ReLU, Input\n",
    "from keras.callbacks import EarlyStopping\n",
    "import matplotlib.pyplot as plt\n",
    "from tensorflow.keras.utils import to_categorical\n",
    "import numpy as np\n",
    "from PIL import Image\n",
    "import matplotlib.pyplot as plt\n",
    "import sklearn as sk\n",
    "from sklearn.metrics import confusion_matrix\n",
    "from keras.preprocessing.sequence import pad_sequences\n",
    "from keras.preprocessing.text import Tokenizer\n",
    "from keras import regularizers\n",
    "from keras.layers import Embedding, Flatten, Dense\n",
    "import tensorflow_datasets as tfds\n",
    "import tensorflow_hub as hub\n",
    "import nltk\n",
    "from nltk.corpus import stopwords\n",
    "from nltk.tokenize import word_tokenize\n",
    "from nltk.stem import PorterStemmer\n",
    "from nltk.tokenize import word_tokenize\n",
    "from nltk import word_tokenize, pos_tag, ne_chunk\n",
    "import os\n",
    "from sklearn.feature_extraction.text import TfidfVectorizer\n",
    "from sklearn.calibration import LabelEncoder\n",
    "from sklearn.model_selection import KFold"
   ]
  },
  {
   "cell_type": "markdown",
   "metadata": {},
   "source": [
    "### Load datasets and download NLTK lib init functions"
   ]
  },
  {
   "cell_type": "code",
   "execution_count": 8,
   "metadata": {},
   "outputs": [],
   "source": [
    "test = pd.read_csv(\"datasets/test.txt\", sep=\";\")\n",
    "train = pd.read_csv(\"datasets/train.txt\", sep=\";\")\n",
    "val = pd.read_csv(\"datasets/val.txt\", sep=\";\")"
   ]
  },
  {
   "cell_type": "code",
   "execution_count": null,
   "metadata": {},
   "outputs": [],
   "source": [
    "keys = train['emotion'].unique()\n",
    "sample_arr = []"
   ]
  },
  {
   "cell_type": "code",
   "execution_count": null,
   "metadata": {},
   "outputs": [],
   "source": [
    "for k in keys:\n",
    "    sample = train[train['emotion'] == k].sample(572)\n",
    "    sample_arr.append(sample)\n",
    "\n",
    "train = pd.concat(sample_arr)\n",
    "train\n"
   ]
  },
  {
   "cell_type": "code",
   "execution_count": null,
   "metadata": {},
   "outputs": [],
   "source": [
    "dir = f\"{os.getcwd()}/nltk_datasets\"\n",
    "nltk.data.path.append(dir)\n",
    "nltk.download(\"stopwords\", download_dir=dir)\n",
    "nltk.download(\"punkt\", download_dir=dir)\n",
    "nltk.download(\"maxent_ne_chunker\", download_dir=dir)\n",
    "nltk.download(\"words\", download_dir=dir)\n",
    "nltk.download(\"tagsets\", download_dir=dir)\n",
    "nltk.download(\"averaged_perceptron_tagger\", download_dir=dir)"
   ]
  },
  {
   "cell_type": "code",
   "execution_count": 9,
   "metadata": {},
   "outputs": [],
   "source": [
    "def remove_stopwords(text):\n",
    "    stop_words = set(stopwords.words(\"english\"))\n",
    "    word_tokens = word_tokenize(text)\n",
    "    filtered_text = [word for word in word_tokens if word.lower()\n",
    "                     not in stop_words]\n",
    "    return \" \".join(filtered_text)\n",
    "\n",
    "\n",
    "def stem_text(text):\n",
    "    stemmer = PorterStemmer()\n",
    "    words = word_tokenize(text)\n",
    "    stemmed_words = [stemmer.stem(word) for word in words]\n",
    "    return \" \".join(stemmed_words)\n",
    "\n",
    "\n",
    "def extract_entities(text):\n",
    "    tokens = word_tokenize(text)\n",
    "    pos_tags = pos_tag(tokens)\n",
    "    ne_chunks = ne_chunk(pos_tags)\n",
    "\n",
    "    entities = []\n",
    "    for chunk in ne_chunks:\n",
    "        if hasattr(chunk, \"label\") and chunk.label():\n",
    "            if chunk.label() == \"NE\":\n",
    "                entities.append(\" \".join([c[0] for c in chunk]))\n",
    "    return entities\n",
    "\n",
    "\n",
    "def create_tfidf_vectorizer(df):\n",
    "    vectorizer = TfidfVectorizer(max_features=10000, use_idf=True)\n",
    "    # Fit and transform the text data in the DataFrame column\n",
    "    tfidf_matrix = vectorizer.fit_transform(df[\"sentence\"])\n",
    "    # Convert the TF-IDF matrix to a DataFrame for visualization\n",
    "    return tfidf_matrix.toarray()\n",
    "\n",
    "\n",
    "def tokenize_sentences(df):\n",
    "    tr_text = df['sentence']\n",
    "    tokenizer = Tokenizer(num_words=10000)\n",
    "    tokenizer.fit_on_texts(tr_text) \n",
    "                                \n",
    "    sequences = tokenizer.texts_to_sequences(tr_text)\n",
    "    return sequences\n",
    "\n",
    "\n",
    "def encode_emotions(emotions):\n",
    "    encoder = LabelEncoder()\n",
    "    return encoder.fit_transform(emotions)\n",
    "\n",
    "def pad_sequences_with_zeros(X, maxlen):\n",
    "    return pad_sequences(X, maxlen=maxlen)\n",
    "\n",
    "def check_frequency_of_words(df):\n",
    "    # Combine all sentences into one string\n",
    "    all_sentences = ' '.join(df['sentence'].tolist())\n",
    "\n",
    "    # Tokenize the combined text into words\n",
    "    words = all_sentences.split()\n",
    "\n",
    "    # Create a Pandas Series to count word frequencies\n",
    "    word_freq = pd.Series(words).value_counts()\n",
    "\n",
    "    # Plot the top 20 most frequent words\n",
    "    plt.figure(figsize=(10, 6))\n",
    "    word_freq.head(20).plot(kind='bar', color='skyblue')\n",
    "    plt.title('Top 20 Most Frequent Words in Sentences')\n",
    "    plt.xlabel('Words')\n",
    "    plt.ylabel('Frequency')\n",
    "    plt.xticks(rotation=45)\n",
    "    plt.tight_layout()\n",
    "    plt.show()"
   ]
  },
  {
   "cell_type": "markdown",
   "metadata": {},
   "source": [
    "### pre-process textual data"
   ]
  },
  {
   "cell_type": "code",
   "execution_count": 12,
   "metadata": {},
   "outputs": [],
   "source": [
    "train[\"sentence\"] = train[\"sentence\"].apply(remove_stopwords)\n",
    "test[\"sentence\"] = test[\"sentence\"].apply(remove_stopwords)\n",
    "val[\"sentence\"] = val[\"sentence\"].apply(remove_stopwords)\n",
    "\n",
    "train[\"sentence\"] = train[\"sentence\"].apply(stem_text)\n",
    "test[\"sentence\"] = test[\"sentence\"].apply(stem_text)\n",
    "val[\"sentence\"] = val[\"sentence\"].apply(stem_text)\n",
    "\n",
    "# train[\"entities\"] = train[\"sentence\"].apply(extract_entities)\n",
    "# test[\"entities\"] = test[\"sentence\"].apply(extract_entities)\n",
    "# val[\"entities\"] = val[\"sentence\"].apply(extract_entities)\n",
    "\n",
    "train[\"sentence\"] = train[\"sentence\"].str.lower()\n",
    "test[\"sentence\"] = test[\"sentence\"].str.lower()\n",
    "val[\"sentence\"] = val[\"sentence\"].str.lower()\n",
    "\n",
    "train_tfidf = tokenize_sentences(train)\n",
    "test_tfidf = tokenize_sentences(test)\n",
    "val_tfidf = tokenize_sentences(val)\n",
    "\n",
    "train_padded = pad_sequences_with_zeros(train_tfidf, 50)\n",
    "test_padded = pad_sequences_with_zeros(test_tfidf, 50)\n",
    "val_padded = pad_sequences_with_zeros(val_tfidf, 50)\n",
    "\n",
    "train['emotion_en'] = encode_emotions(train['emotion'])\n",
    "test['emotion_en'] = encode_emotions(test['emotion'])\n",
    "val['emotion_en'] = encode_emotions(val['emotion'])\n",
    "# lets do lammentization next time"
   ]
  },
  {
   "cell_type": "code",
   "execution_count": 13,
   "metadata": {},
   "outputs": [],
   "source": [
    "emotion_en_decrypted = train[['emotion','emotion_en']]\n",
    "emotion_en_decrypted = emotion_en_decrypted.drop_duplicates()"
   ]
  },
  {
   "cell_type": "markdown",
   "metadata": {},
   "source": [
    "### Save numpy dataset to reload back"
   ]
  },
  {
   "cell_type": "code",
   "execution_count": null,
   "metadata": {},
   "outputs": [],
   "source": [
    "np.savez_compressed(f\"{os.getcwd()}/datasets/preprocessed_data/nlp_training.npz\", train=train_tfidf,test=test_tfidf,val=val_tfidf)"
   ]
  },
  {
   "cell_type": "code",
   "execution_count": null,
   "metadata": {},
   "outputs": [],
   "source": [
    "main_arr_npz = np.load(f\"{os.getcwd()}/datasets/preprocessed_data/nlp_training.npz\")"
   ]
  },
  {
   "cell_type": "code",
   "execution_count": null,
   "metadata": {},
   "outputs": [],
   "source": [
    "main_arr_npz['train'] "
   ]
  },
  {
   "cell_type": "code",
   "execution_count": 14,
   "metadata": {},
   "outputs": [],
   "source": [
    "y_train = to_categorical(train[\"emotion_en\"])\n",
    "y_test = to_categorical(test[\"emotion_en\"])\n",
    "y_val = to_categorical(val[\"emotion_en\"])"
   ]
  },
  {
   "cell_type": "markdown",
   "metadata": {},
   "source": [
    "## Train model"
   ]
  },
  {
   "cell_type": "markdown",
   "metadata": {},
   "source": [
    "### our model"
   ]
  },
  {
   "cell_type": "code",
   "execution_count": null,
   "metadata": {},
   "outputs": [],
   "source": [
    "model = Sequential([\n",
    "    Embedding(10000, 64, input_length=50),\n",
    "    LSTM(64,return_sequences=False),\n",
    "    Dense(64, activation='relu',kernel_regularizer=regularizers.l2(0.01)),\n",
    "    Dense(32, activation='relu',kernel_regularizer=regularizers.l2(0.01)),\n",
    "    Dense(6, activation='softmax')\n",
    "])\n",
    "\n",
    "model.compile(optimizer='adamax', loss='categorical_crossentropy',\n",
    "              metrics=['accuracy'])"
   ]
  },
  {
   "cell_type": "markdown",
   "metadata": {},
   "source": [
    "### siamese model"
   ]
  },
  {
   "cell_type": "code",
   "execution_count": null,
   "metadata": {},
   "outputs": [],
   "source": [
    "input_shape_1 = (50,)  # Replace with your input shape\n",
    "input_shape_2 = (50,)  # Replace with your input shape\n",
    "\n",
    "# Define branches for each input\n",
    "input_1 = Input(shape=input_shape_1)\n",
    "input_2 = Input(shape=input_shape_2)\n",
    "\n",
    "# Embedding layer for each input\n",
    "embedding_1 = Embedding(10000, 64, input_length=50)(input_1)\n",
    "embedding_2 = Embedding(10000, 64, input_length=50)(input_2)\n",
    "\n",
    "# Flatten or any necessary layers for each branch\n",
    "flatten_1 = Flatten()(embedding_1)\n",
    "flatten_2 = Flatten()(embedding_2)\n",
    "\n",
    "# Concatenate the branches\n",
    "concatenated = Concatenate()([flatten_1, flatten_2])\n",
    "\n",
    "# Dense layers and final output layer\n",
    "dense_layer = Dense(64, activation='relu')(concatenated)\n",
    "output_layer = Dense(6, activation='softmax')(dense_layer)\n",
    "\n",
    "# Create the model\n",
    "model = Model(inputs=[input_1, input_2], outputs=output_layer)\n",
    "\n",
    "# Compile the model\n",
    "model.compile(optimizer='adamax', loss='categorical_crossentropy', metrics=['accuracy'])\n"
   ]
  },
  {
   "cell_type": "code",
   "execution_count": null,
   "metadata": {},
   "outputs": [],
   "source": [
    "input_shape_1 = (50,)  # Replace with your input shape\n",
    "input_shape_2 = (50,)  # Replace with your input shape\n",
    "\n",
    "# Define branches for each input\n",
    "input_1 = Input(shape=input_shape_1)\n",
    "input_2 = Input(shape=input_shape_2)\n",
    "\n",
    "# Embedding layer for each input\n",
    "embedding_1 = Embedding(10000, 64, input_length=50)(input_1)\n",
    "embedding_2 = Embedding(10000, 64, input_length=50)(input_2)\n",
    "\n",
    "# Flatten or any necessary layers for each branch\n",
    "flatten_1 = Flatten()(embedding_1)\n",
    "flatten_2 = Flatten()(embedding_2)\n",
    "\n",
    "# lstm_1 = LSTM(64,return_sequences=True)(embedding_1)\n",
    "# lstm_2 = LSTM(64,return_sequences=True)(embedding_2)\n",
    "\n",
    "# Concatenate the branches\n",
    "concatenated = Concatenate()([flatten_1, flatten_2])\n",
    "\n",
    "# Dense layers and final output layer\n",
    "dense_layer = Dense(64, activation='relu')(concatenated)\n",
    "output_layer = Dense(6, activation='softmax')(dense_layer)\n",
    "\n",
    "# Create the model\n",
    "model = Model(inputs=[input_1, input_2], outputs=output_layer)\n",
    "\n",
    "# Compile the model\n",
    "model.compile(optimizer='adamax', loss='categorical_crossentropy', metrics=['accuracy'])\n"
   ]
  },
  {
   "cell_type": "code",
   "execution_count": null,
   "metadata": {},
   "outputs": [],
   "source": [
    "history = model.fit(\n",
    "    [train_padded, train_padded], y_train, epochs=20, batch_size=128, validation_split=0.2\n",
    ")"
   ]
  },
  {
   "cell_type": "code",
   "execution_count": null,
   "metadata": {},
   "outputs": [],
   "source": [
    "kf = KFold(n_splits=5, shuffle=True, random_state=42)\n",
    "\n",
    "# Loop through each fold\n",
    "for fold, (train_index, val_index) in enumerate(kf.split(train_padded)):\n",
    "    print(f\"Fold {fold + 1}\")\n",
    "    \n",
    "    # Split the data into training and validation sets for this fold\n",
    "    X_train_, X_val_ = train_padded[train_index], train_padded[val_index]\n",
    "    y_train_, y_val_ = y_train[train_index], y_train[val_index]\n",
    "    history = model.fit(\n",
    "   [X_train_, X_train_], y_train_, epochs=5, batch_size=128, validation_data=([X_val_, X_val_], y_val_)\n",
    ")\n"
   ]
  },
  {
   "cell_type": "code",
   "execution_count": null,
   "metadata": {},
   "outputs": [],
   "source": [
    "model.save(\"models/nlp_training_model_self.h5\")"
   ]
  },
  {
   "cell_type": "markdown",
   "metadata": {},
   "source": [
    "### load old model"
   ]
  },
  {
   "cell_type": "code",
   "execution_count": 15,
   "metadata": {},
   "outputs": [
    {
     "name": "stdout",
     "output_type": "stream",
     "text": [
      "Model: \"model_3\"\n",
      "__________________________________________________________________________________________________\n",
      " Layer (type)                Output Shape                 Param #   Connected to                  \n",
      "==================================================================================================\n",
      " input_22 (InputLayer)       [(None, 50)]                 0         []                            \n",
      "                                                                                                  \n",
      " input_23 (InputLayer)       [(None, 50)]                 0         []                            \n",
      "                                                                                                  \n",
      " embedding_21 (Embedding)    (None, 50, 64)               640000    ['input_22[0][0]']            \n",
      "                                                                                                  \n",
      " embedding_22 (Embedding)    (None, 50, 64)               640000    ['input_23[0][0]']            \n",
      "                                                                                                  \n",
      " flatten_4 (Flatten)         (None, 3200)                 0         ['embedding_21[0][0]']        \n",
      "                                                                                                  \n",
      " flatten_5 (Flatten)         (None, 3200)                 0         ['embedding_22[0][0]']        \n",
      "                                                                                                  \n",
      " concatenate_3 (Concatenate  (None, 6400)                 0         ['flatten_4[0][0]',           \n",
      " )                                                                   'flatten_5[0][0]']           \n",
      "                                                                                                  \n",
      " dense_8 (Dense)             (None, 64)                   409664    ['concatenate_3[0][0]']       \n",
      "                                                                                                  \n",
      " dense_9 (Dense)             (None, 6)                    390       ['dense_8[0][0]']             \n",
      "                                                                                                  \n",
      "==================================================================================================\n",
      "Total params: 1690054 (6.45 MB)\n",
      "Trainable params: 1690054 (6.45 MB)\n",
      "Non-trainable params: 0 (0.00 Byte)\n",
      "__________________________________________________________________________________________________\n"
     ]
    }
   ],
   "source": [
    "model = tf.keras.models.load_model(\"models/nlp_training_model_self.h5\")\n",
    "model.summary()"
   ]
  },
  {
   "cell_type": "code",
   "execution_count": null,
   "metadata": {},
   "outputs": [],
   "source": [
    "model.evaluate([val_padded,val_padded], y_val)"
   ]
  },
  {
   "cell_type": "code",
   "execution_count": null,
   "metadata": {},
   "outputs": [],
   "source": [
    "train.value_counts(\"emotion\")"
   ]
  },
  {
   "cell_type": "markdown",
   "metadata": {},
   "source": [
    "## Check model accuracy with custom inputs"
   ]
  },
  {
   "cell_type": "code",
   "execution_count": 21,
   "metadata": {},
   "outputs": [
    {
     "name": "stdout",
     "output_type": "stream",
     "text": [
      "0                   im feel rather rotten im ambiti right\n",
      "1                               im updat blog feel shitti\n",
      "2              never make separ ever want feel like asham\n",
      "3       left bouquet red yellow tulip arm feel slightl...\n",
      "4                                     feel littl vain one\n",
      "                              ...                        \n",
      "1995    keep feel like someon unkind wrong think get b...\n",
      "1996              im feel littl cranki neg doctor appoint\n",
      "1997                feel use peopl give great feel achiev\n",
      "1998    im feel comfort derbi feel though start step s...\n",
      "1999    feel weird meet w peopl text like dont talk fa...\n",
      "Name: sentence, Length: 2000, dtype: object\n",
      "63/63 [==============================] - 0s 2ms/step\n"
     ]
    }
   ],
   "source": [
    "input_sentence = [\"i want to fight mohsin\"]\n",
    "df = test\n",
    "\n",
    "df[\"sentence\"] = df[\"sentence\"].apply(remove_stopwords)\n",
    "df[\"sentence\"] = df[\"sentence\"].apply(stem_text)\n",
    "\n",
    "print(df[\"sentence\"])\n",
    "\n",
    "input_ = tokenize_sentences(df)\n",
    "input_ = pad_sequences_with_zeros(input_, 50)\n",
    "\n",
    "#pred_val = model_old.predict([input_,input_]).argmax()\n",
    "#result = emotion_en_decrypted.loc[emotion_en_decrypted['emotion_en'] == pred_val, 'emotion'].values[0]\n",
    "prediction = []\n",
    "\n",
    "pred_val_model = model.predict([input_,input_])\n",
    "for pred in pred_val_model:\n",
    "    result_model = emotion_en_decrypted.loc[emotion_en_decrypted['emotion_en'] == pred.argmax(), 'emotion'].values[0]\n",
    "    #\"old:\",pred_val,result,\n",
    "    prediction.append(result_model)"
   ]
  },
  {
   "cell_type": "code",
   "execution_count": 26,
   "metadata": {},
   "outputs": [],
   "source": [
    "tst = test[\"emotion\"]\n"
   ]
  },
  {
   "cell_type": "code",
   "execution_count": 27,
   "metadata": {},
   "outputs": [
    {
     "name": "stdout",
     "output_type": "stream",
     "text": [
      "Shape of Confusion Matrix: (6, 6)\n"
     ]
    },
    {
     "data": {
      "image/png": "[encoded data removed]",
      "text/plain": [
       "<Figure size 800x600 with 2 Axes>"
      ]
     },
     "metadata": {},
     "output_type": "display_data"
    }
   ],
   "source": [
    "cm = confusion_matrix(prediction, tst)\n",
    "\n",
    "# Identify misclassifications with counts greater than 1\n",
    "misclassified_indices = np.where(cm > 0)\n",
    "\n",
    "# Display the confusion matrix and its shape\n",
    "# print(\"Confusion Matrix:\")\n",
    "# print(cm)\n",
    "print(\"Shape of Confusion Matrix:\", cm.shape)\n",
    "\n",
    "# Plotting the confusion matrix\n",
    "plt.figure(figsize=(8, 6))\n",
    "\n",
    "# Define colors for the plot\n",
    "cmap = plt.cm.Blues\n",
    "# Set the color for misclassifications\n",
    "#cmap.set_under('yellow')\n",
    "\n",
    "plt.imshow(cm, interpolation='nearest', cmap=cmap, vmin=0.1)\n",
    "plt.title('Confusion Matrix')\n",
    "plt.colorbar()\n",
    "\n",
    "# Adding axis labels \n",
    "classes = np.unique(tst)\n",
    "tick_marks = np.arange(len(classes))\n",
    "plt.xticks(tick_marks, classes)\n",
    "plt.yticks(tick_marks, classes)\n",
    "\n",
    "# Adding annotations for misclassifications with counts > 1\n",
    "thresh = cm.max() / 2.0\n",
    "for i, j in zip(*misclassified_indices):\n",
    "    plt.text(j, i, format(cm[i, j], 'd'),\n",
    "             horizontalalignment=\"center\",\n",
    "             color=\"white\" if cm[i, j] > thresh else \"black\")\n",
    "\n",
    "plt.xlabel('Predicted Label')\n",
    "plt.ylabel('True Label')\n",
    "plt.tight_layout()\n",
    "plt.show()"
   ]
  }
 ],
 "metadata": {
  "kernelspec": {
   "display_name": "venv",
   "language": "python",
   "name": "python3"
  },
  "language_info": {
   "codemirror_mode": {
    "name": "ipython",
    "version": 3
   },
   "file_extension": ".py",
   "mimetype": "text/x-python",
   "name": "python",
   "nbconvert_exporter": "python",
   "pygments_lexer": "ipython3",
   "version": "3.11.6"
  }
 },
 "nbformat": 4,
 "nbformat_minor": 2
}
