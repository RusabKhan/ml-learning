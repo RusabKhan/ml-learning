{
 "cells": [
  {
   "cell_type": "code",
   "execution_count": null,
   "metadata": {},
   "outputs": [],
   "source": [
    "import pandas as pd\n",
    "from torch.utils.data import DataLoader, TensorDataset\n",
    "import tensorflow as tf\n",
    "from keras.metrics import Precision, Recall\n",
    "from tensorflow.keras.models import Sequential, Model\n",
    "from tensorflow.keras.layers import (\n",
    "    LSTM,\n",
    "    Dense,\n",
    "    Embedding,\n",
    "    Bidirectional,\n",
    "    Dropout,\n",
    "    GlobalMaxPooling1D,\n",
    "    Concatenate,\n",
    "    BatchNormalization,\n",
    "    Conv1D,\n",
    "    ReLU,\n",
    "    Input,\n",
    "    GRU,\n",
    "    concatenate,\n",
    ")\n",
    "from keras.callbacks import EarlyStopping\n",
    "import matplotlib.pyplot as plt\n",
    "from tensorflow.keras.utils import to_categorical\n",
    "import numpy as np\n",
    "from PIL import Image\n",
    "import matplotlib.pyplot as plt\n",
    "import sklearn as sk\n",
    "from sklearn.metrics import confusion_matrix\n",
    "from keras.preprocessing.sequence import pad_sequences\n",
    "from keras.preprocessing.text import Tokenizer\n",
    "from keras import regularizers\n",
    "from keras.layers import Embedding, Flatten, Dense\n",
    "import tensorflow_datasets as tfds\n",
    "import tensorflow_hub as hub\n",
    "import nltk\n",
    "from nltk.corpus import stopwords\n",
    "from nltk.tokenize import word_tokenize\n",
    "from nltk.stem import PorterStemmer\n",
    "from nltk.tokenize import word_tokenize\n",
    "from nltk import word_tokenize, pos_tag, ne_chunk\n",
    "import os\n",
    "from sklearn.model_selection import train_test_split\n",
    "from sklearn.feature_extraction.text import TfidfVectorizer\n",
    "from sklearn.calibration import LabelEncoder\n",
    "from sklearn.model_selection import KFold\n",
    "from sklearn.preprocessing import MinMaxScaler, StandardScaler\n",
    "from keras.preprocessing.sequence import TimeseriesGenerator\n",
    "from datetime import datetime"
   ]
  },
  {
   "cell_type": "code",
   "execution_count": null,
   "metadata": {},
   "outputs": [],
   "source": [
    "model = tf.keras.models.load_model(\n",
    "    f\"{os.getcwd()}/models/nlp_training_model_self.h5\")"
   ]
  },
  {
   "cell_type": "code",
   "execution_count": null,
   "metadata": {},
   "outputs": [],
   "source": [
    "df = pd.read_csv(\"datasets/regrets_dataset.csv\", sep=\";\")\n",
    "df[\"emotion\"] = \"regrets\"\n",
    "df2 = pd.read_csv(\"datasets/train.txt\", sep=\";\")\n",
    "\n",
    "df = pd.concat([df, df2], ignore_index=True)\n",
    "df[\"emotion\"].count()"
   ]
  },
  {
   "cell_type": "code",
   "execution_count": null,
   "metadata": {},
   "outputs": [],
   "source": [
    "keys = df[\"emotion\"].unique()\n",
    "sample_arr = []"
   ]
  },
  {
   "cell_type": "code",
   "execution_count": null,
   "metadata": {},
   "outputs": [],
   "source": [
    "train = None\n",
    "for k in keys:\n",
    "    sample = df[df[\"emotion\"] == k].sample(241)\n",
    "    sample_arr.append(sample)\n",
    "\n",
    "train = pd.concat(sample_arr,axis=0)\n",
    "train"
   ]
  },
  {
   "cell_type": "code",
   "execution_count": null,
   "metadata": {},
   "outputs": [],
   "source": [
    "for layer in model.layers:\n",
    "    if layer.name not in [\"dense_9\",\"input_23\"]:\n",
    "        layer.trainable = False"
   ]
  },
  {
   "cell_type": "code",
   "execution_count": null,
   "metadata": {},
   "outputs": [],
   "source": [
    "for m in model.layers:\n",
    "    print(m.trainable)\n",
    "    \n",
    "model.layers[0].trainable = True"
   ]
  },
  {
   "cell_type": "code",
   "execution_count": null,
   "metadata": {},
   "outputs": [],
   "source": [
    "new_model = Sequential()\n",
    "\n",
    "\n",
    "for idx, layer in enumerate(model.layers):\n",
    "    if layer.name not in [\"dense_9\", \"concatenate_3\", \"dense_8\"]:\n",
    "        new_model.add(layer)\n",
    "\n",
    "dns = Dense(units=64, activation=\"relu\")(new_model.layers[-1].output)\n",
    "dns_1 = Dense(units=32, activation=\"relu\")(dns)\n",
    "\n",
    "outputs = tf.keras.layers.Dense(units=7, activation=\"softmax\")(dns_1)\n",
    "\n",
    "# input_layer_for_new_model = tf.keras.layers.Dense(\n",
    "#     units=64, activation='softmax')(new_model.layers[-3].output)\n",
    "\n",
    "new_model = tf.keras.Model(inputs=new_model.layers[0].input, outputs=outputs)\n",
    "new_model.build(input_shape=(None, 50))\n",
    "new_model.compile(\n",
    "    loss=\"categorical_crossentropy\", optimizer=\"adam\", metrics=[\"accuracy\"]\n",
    ")\n",
    "new_model.summary()"
   ]
  },
  {
   "cell_type": "code",
   "execution_count": null,
   "metadata": {},
   "outputs": [],
   "source": [
    "def remove_stopwords(text):\n",
    "    stop_words = set(stopwords.words(\"english\"))\n",
    "    word_tokens = word_tokenize(text)\n",
    "    filtered_text = [word for word in word_tokens if word.lower()\n",
    "                     not in stop_words]\n",
    "    return \" \".join(filtered_text)\n",
    "\n",
    "\n",
    "def stem_text(text):\n",
    "    stemmer = PorterStemmer()\n",
    "    words = word_tokenize(text)\n",
    "    stemmed_words = [stemmer.stem(word) for word in words]\n",
    "    return \" \".join(stemmed_words)\n",
    "\n",
    "\n",
    "def extract_entities(text):\n",
    "    tokens = word_tokenize(text)\n",
    "    pos_tags = pos_tag(tokens)\n",
    "    ne_chunks = ne_chunk(pos_tags)\n",
    "\n",
    "    entities = []\n",
    "    for chunk in ne_chunks:\n",
    "        if hasattr(chunk, \"label\") and chunk.label():\n",
    "            if chunk.label() == \"NE\":\n",
    "                entities.append(\" \".join([c[0] for c in chunk]))\n",
    "    return entities\n",
    "\n",
    "\n",
    "def create_tfidf_vectorizer(df):\n",
    "    vectorizer = TfidfVectorizer(max_features=10000, use_idf=True)\n",
    "    # Fit and transform the text data in the DataFrame column\n",
    "    tfidf_matrix = vectorizer.fit_transform(df[\"sentence\"])\n",
    "    # Convert the TF-IDF matrix to a DataFrame for visualization\n",
    "    return tfidf_matrix.toarray()\n",
    "\n",
    "\n",
    "def tokenize_sentences(df):\n",
    "    tr_text = df[\"sentence\"]\n",
    "    tokenizer = Tokenizer(num_words=10000)\n",
    "    tokenizer.fit_on_texts(tr_text)\n",
    "\n",
    "    sequences = tokenizer.texts_to_sequences(tr_text)\n",
    "    return sequences\n",
    "\n",
    "\n",
    "def encode_emotions(emotions):\n",
    "    encoder = LabelEncoder()\n",
    "    return encoder.fit_transform(emotions)\n",
    "\n",
    "\n",
    "def pad_sequences_with_zeros(X, maxlen):\n",
    "    return pad_sequences(X, maxlen=maxlen)\n",
    "\n",
    "\n",
    "def check_frequency_of_words(df):\n",
    "    # Combine all sentences into one string\n",
    "    all_sentences = \" \".join(df[\"sentence\"].tolist())\n",
    "\n",
    "    # Tokenize the combined text into words\n",
    "    words = all_sentences.split()\n",
    "\n",
    "    # Create a Pandas Series to count word frequencies\n",
    "    word_freq = pd.Series(words).value_counts()\n",
    "\n",
    "    # Plot the top 20 most frequent words\n",
    "    plt.figure(figsize=(10, 6))\n",
    "    word_freq.head(20).plot(kind=\"bar\", color=\"skyblue\")\n",
    "    plt.title(\"Top 20 Most Frequent Words in Sentences\")\n",
    "    plt.xlabel(\"Words\")\n",
    "    plt.ylabel(\"Frequency\")\n",
    "    plt.xticks(rotation=45)\n",
    "    plt.tight_layout()\n",
    "    plt.show()"
   ]
  },
  {
   "cell_type": "code",
   "execution_count": null,
   "metadata": {},
   "outputs": [],
   "source": [
    "etc = None\n",
    "train[\"sentence\"] = train[\"sentence\"].apply(remove_stopwords)\n",
    "# test[\"sentence\"] = test[\"sentence\"].apply(remove_stopwords)\n",
    "\n",
    "train[\"sentence\"] = train[\"sentence\"].apply(stem_text)\n",
    "# test[\"sentence\"] = test[\"sentence\"].apply(stem_text)\n",
    "train[\"sentence\"] = train[\"sentence\"].str.replace(r'[^\\w\\s]', ' ', regex=True)\n",
    "train[\"sentence\"] = train[\"sentence\"].str.replace(r'\\s+', ' ', regex=True)\n",
    "\n",
    "# train[\"entities\"] = train[\"sentence\"].apply(extract_entities)\n",
    "# test[\"entities\"] = test[\"sentence\"].apply(extract_entities)\n",
    "# val[\"entities\"] = val[\"sentence\"].apply(extract_entities)\n",
    "\n",
    "train[\"sentence\"] = train[\"sentence\"].str.lower()\n",
    "# test[\"sentence\"] = test[\"sentence\"].str.lower()\n",
    "\n",
    "train_tfidf = tokenize_sentences(train)\n",
    "# test_tfidf = tokenize_sentences(test)\n",
    "\n",
    "train_padded = pad_sequences_with_zeros(train_tfidf, 50)\n",
    "# test_padded = pad_sequences_with_zeros(test_tfidf, 50)\n",
    "\n",
    "train[\"emotion_en\"] = encode_emotions(train[\"emotion\"])\n",
    "# test[\"emotion_en\"] = encode_emotions(test[\"emotion\"])\n",
    "# lets do lammentization next time"
   ]
  },
  {
   "cell_type": "code",
   "execution_count": null,
   "metadata": {},
   "outputs": [],
   "source": [
    "train_padded.shape, train[\"emotion_en\"].unique()"
   ]
  },
  {
   "cell_type": "code",
   "execution_count": null,
   "metadata": {},
   "outputs": [],
   "source": [
    "y_train = to_categorical(train[\"emotion_en\"])\n",
    "y_train.shape"
   ]
  },
  {
   "cell_type": "code",
   "execution_count": null,
   "metadata": {},
   "outputs": [],
   "source": [
    "new_model.fit(train_padded, y_train, epochs=50, batch_size=32, validation_split=0.2)"
   ]
  },
  {
   "cell_type": "code",
   "execution_count": 64,
   "metadata": {},
   "outputs": [
    {
     "name": "stderr",
     "output_type": "stream",
     "text": [
      "/Users/rusab1/Work/learntorch/venv/lib/python3.11/site-packages/keras/src/engine/training.py:3103: UserWarning: You are saving your model as an HDF5 file via `model.save()`. This file format is considered legacy. We recommend using instead the native Keras format, e.g. `model.save('my_model.keras')`.\n",
      "  saving_api.save_model(\n"
     ]
    }
   ],
   "source": [
    "new_model.save(\"models/fine_tune_model_nlp_regrest.h5\")"
   ]
  },
  {
   "cell_type": "code",
   "execution_count": null,
   "metadata": {},
   "outputs": [],
   "source": [
    "input_sentence = [\"i regret stuff i did in my teenages.\"]\n",
    "df = pd.DataFrame(input_sentence, columns=['sentence'])\n",
    "\n",
    "df[\"sentence\"] = df[\"sentence\"].apply(remove_stopwords)\n",
    "df[\"sentence\"] = df[\"sentence\"].apply(stem_text)\n",
    "df[\"sentence\"] = df[\"sentence\"].str.replace(r'[^\\w\\s]', ' ', regex=True)\n",
    "df[\"sentence\"] = df[\"sentence\"].str.replace(r'\\s+', ' ', regex=True)\n",
    "\n",
    "\n",
    "print(df[\"sentence\"])\n",
    "\n",
    "input_ = tokenize_sentences(df)\n",
    "input_ = pad_sequences_with_zeros(input_, 50)\n",
    "\n",
    "#pred_val = model_old.predict([input_,input_]).argmax()\n",
    "#result = emotion_en_decrypted.loc[emotion_en_decrypted['emotion_en'] == pred_val, 'emotion'].values[0]\n",
    "\n",
    "\n",
    "pred_val_model = new_model.predict(input_).argmax()\n",
    "result_model = emotion_en_decrypted.loc[emotion_en_decrypted['emotion_en'] == pred_val_model, 'emotion'].values[0]\n",
    "#\"old:\",pred_val,result,\n",
    "\"|new:\",pred_val_model,result_model"
   ]
  },
  {
   "cell_type": "code",
   "execution_count": null,
   "metadata": {},
   "outputs": [],
   "source": [
    "\n",
    "# pred_val = model_old.predict([input_,input_]).argmax()\n",
    "# result = emotion_en_decrypted.loc[emotion_en_decrypted['emotion_en'] == pred_val, 'emotion'].values[0]\n",
    "predicted_label = []\n",
    "val = pd.DataFrame()\n",
    "val[\"sentence\"] = train[\"sentence\"].str.replace(r'[^\\w\\s]', ' ', regex=True)\n",
    "val[\"sentence\"] = train[\"sentence\"].str.replace(r'\\s+', ' ', regex=True)\n",
    "\n",
    "inpt = tokenize_sentences(val)\n",
    "inpt = pad_sequences_with_zeros(inpt, 50)\n",
    "\n",
    "# for inpt_ in inpt:\n",
    "pred_val_model = new_model.predict(inpt)\n",
    "for preds in pred_val_model:\n",
    "    result_model = emotion_en_decrypted.loc[emotion_en_decrypted[\"emotion_en\"] == preds.argmax(), \"emotion\"].values[0]\n",
    "    # \"old:\",pred_val,result,\\\n",
    "    predicted_label.append(result_model)"
   ]
  },
  {
   "cell_type": "code",
   "execution_count": null,
   "metadata": {},
   "outputs": [],
   "source": [
    "emotion_en_decrypted = train[[\"emotion\", \"emotion_en\"]]\n",
    "emotion_en_decrypted = emotion_en_decrypted.drop_duplicates()"
   ]
  },
  {
   "cell_type": "code",
   "execution_count": 62,
   "metadata": {},
   "outputs": [],
   "source": [
    "tst = train[\"emotion\"]"
   ]
  },
  {
   "cell_type": "code",
   "execution_count": 63,
   "metadata": {},
   "outputs": [
    {
     "name": "stdout",
     "output_type": "stream",
     "text": [
      "Shape of Confusion Matrix: (7, 7)\n"
     ]
    },
    {
     "data": {
      "image/png": "[encoded data removed]",
      "text/plain": [
       "<Figure size 800x600 with 2 Axes>"
      ]
     },
     "metadata": {},
     "output_type": "display_data"
    }
   ],
   "source": [
    "cm = confusion_matrix(predicted_label, tst)\n",
    "\n",
    "# Identify misclassifications with counts greater than 1\n",
    "misclassified_indices = np.where(cm > 0)\n",
    "\n",
    "# Display the confusion matrix and its shape\n",
    "# print(\"Confusion Matrix:\")\n",
    "# print(cm)\n",
    "print(\"Shape of Confusion Matrix:\", cm.shape)\n",
    "\n",
    "# Plotting the confusion matrix\n",
    "plt.figure(figsize=(8, 6))\n",
    "\n",
    "# Define colors for the plot\n",
    "cmap = plt.cm.Blues\n",
    "# Set the color for misclassifications\n",
    "#cmap.set_under('yellow')\n",
    "\n",
    "plt.imshow(cm, interpolation='nearest', cmap=cmap, vmin=0.1)\n",
    "plt.title('Confusion Matrix')\n",
    "plt.colorbar()\n",
    "\n",
    "# Adding axis labels \n",
    "classes = np.unique(tst)\n",
    "tick_marks = np.arange(len(classes))\n",
    "plt.xticks(tick_marks, classes)\n",
    "plt.yticks(tick_marks, classes)\n",
    "\n",
    "# Adding annotations for misclassifications with counts > 1\n",
    "thresh = cm.max() / 2.0\n",
    "for i, j in zip(*misclassified_indices):\n",
    "    plt.text(j, i, format(cm[i, j], 'd'),\n",
    "             horizontalalignment=\"center\",\n",
    "             color=\"white\" if cm[i, j] > thresh else \"black\")\n",
    "\n",
    "plt.xlabel('Predicted Label')\n",
    "plt.ylabel('True Label')\n",
    "plt.tight_layout()\n",
    "plt.show()"
   ]
  }
 ],
 "metadata": {
  "kernelspec": {
   "display_name": "venv",
   "language": "python",
   "name": "python3"
  },
  "language_info": {
   "codemirror_mode": {
    "name": "ipython",
    "version": 3
   },
   "file_extension": ".py",
   "mimetype": "text/x-python",
   "name": "python",
   "nbconvert_exporter": "python",
   "pygments_lexer": "ipython3",
   "version": "3.11.6"
  }
 },
 "nbformat": 4,
 "nbformat_minor": 2
}
